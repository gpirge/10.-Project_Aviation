{
 "cells": [
  {
   "cell_type": "code",
   "execution_count": 14,
   "metadata": {},
   "outputs": [],
   "source": [
    "import pandas as pd"
   ]
  },
  {
   "cell_type": "code",
   "execution_count": 16,
   "metadata": {},
   "outputs": [],
   "source": [
    "air = pd.read_csv('AirData.csv')"
   ]
  },
  {
   "cell_type": "code",
   "execution_count": 17,
   "metadata": {},
   "outputs": [
    {
     "data": {
      "text/html": [
       "<div>\n",
       "<style scoped>\n",
       "    .dataframe tbody tr th:only-of-type {\n",
       "        vertical-align: middle;\n",
       "    }\n",
       "\n",
       "    .dataframe tbody tr th {\n",
       "        vertical-align: top;\n",
       "    }\n",
       "\n",
       "    .dataframe thead th {\n",
       "        text-align: right;\n",
       "    }\n",
       "</style>\n",
       "<table border=\"1\" class=\"dataframe\">\n",
       "  <thead>\n",
       "    <tr style=\"text-align: right;\">\n",
       "      <th></th>\n",
       "      <th>EventId</th>\n",
       "      <th>InvestigationType</th>\n",
       "      <th>AccidentNumber</th>\n",
       "      <th>EventDate</th>\n",
       "      <th>Location</th>\n",
       "      <th>Country</th>\n",
       "      <th>Latitude</th>\n",
       "      <th>Longitude</th>\n",
       "      <th>AirportCode</th>\n",
       "      <th>AirportName</th>\n",
       "      <th>...</th>\n",
       "      <th>PurposeOfFlight</th>\n",
       "      <th>AirCarrier</th>\n",
       "      <th>TotalFatalInjuries</th>\n",
       "      <th>TotalSeriousInjuries</th>\n",
       "      <th>TotalMinorInjuries</th>\n",
       "      <th>TotalUninjured</th>\n",
       "      <th>WeatherCondition</th>\n",
       "      <th>BroadPhaseOfFlight</th>\n",
       "      <th>ReportStatus</th>\n",
       "      <th>PublicationDate</th>\n",
       "    </tr>\n",
       "  </thead>\n",
       "  <tbody>\n",
       "    <tr>\n",
       "      <th>0</th>\n",
       "      <td>20200904X81526</td>\n",
       "      <td>Accident</td>\n",
       "      <td>CEN20CA386</td>\n",
       "      <td>09/03/2020</td>\n",
       "      <td>Reserve, LA</td>\n",
       "      <td>United States</td>\n",
       "      <td>NaN</td>\n",
       "      <td>NaN</td>\n",
       "      <td>KAPS</td>\n",
       "      <td>NaN</td>\n",
       "      <td>...</td>\n",
       "      <td>Personal</td>\n",
       "      <td>NaN</td>\n",
       "      <td>NaN</td>\n",
       "      <td>NaN</td>\n",
       "      <td>NaN</td>\n",
       "      <td>NaN</td>\n",
       "      <td>NaN</td>\n",
       "      <td>NaN</td>\n",
       "      <td>Preliminary</td>\n",
       "      <td>09/08/2020</td>\n",
       "    </tr>\n",
       "    <tr>\n",
       "      <th>1</th>\n",
       "      <td>20200831X75141</td>\n",
       "      <td>Accident</td>\n",
       "      <td>ERA20CA300</td>\n",
       "      <td>08/30/2020</td>\n",
       "      <td>Millington, MD</td>\n",
       "      <td>United States</td>\n",
       "      <td>NaN</td>\n",
       "      <td>NaN</td>\n",
       "      <td>NaN</td>\n",
       "      <td>NaN</td>\n",
       "      <td>...</td>\n",
       "      <td>NaN</td>\n",
       "      <td>NaN</td>\n",
       "      <td>NaN</td>\n",
       "      <td>NaN</td>\n",
       "      <td>NaN</td>\n",
       "      <td>NaN</td>\n",
       "      <td>NaN</td>\n",
       "      <td>NaN</td>\n",
       "      <td>Preliminary</td>\n",
       "      <td>09/01/2020</td>\n",
       "    </tr>\n",
       "    <tr>\n",
       "      <th>2</th>\n",
       "      <td>20200830X64312</td>\n",
       "      <td>Accident</td>\n",
       "      <td>CEN20LA370</td>\n",
       "      <td>08/30/2020</td>\n",
       "      <td>Bryan, TX</td>\n",
       "      <td>United States</td>\n",
       "      <td>30.715556</td>\n",
       "      <td>-96.331389</td>\n",
       "      <td>CFD</td>\n",
       "      <td>Coulter Field</td>\n",
       "      <td>...</td>\n",
       "      <td>Personal</td>\n",
       "      <td>NaN</td>\n",
       "      <td>3.0</td>\n",
       "      <td>1.0</td>\n",
       "      <td>NaN</td>\n",
       "      <td>NaN</td>\n",
       "      <td>VMC</td>\n",
       "      <td>TAKEOFF</td>\n",
       "      <td>Preliminary</td>\n",
       "      <td>09/03/2020</td>\n",
       "    </tr>\n",
       "    <tr>\n",
       "      <th>3</th>\n",
       "      <td>20200829X95443</td>\n",
       "      <td>Accident</td>\n",
       "      <td>CEN20LA367</td>\n",
       "      <td>08/29/2020</td>\n",
       "      <td>Lawrenceville, IL</td>\n",
       "      <td>United States</td>\n",
       "      <td>38.789722</td>\n",
       "      <td>-87.605000</td>\n",
       "      <td>LWV</td>\n",
       "      <td>Lawrenceville-Vincennes Intl</td>\n",
       "      <td>...</td>\n",
       "      <td>Personal</td>\n",
       "      <td>NaN</td>\n",
       "      <td>1.0</td>\n",
       "      <td>NaN</td>\n",
       "      <td>NaN</td>\n",
       "      <td>NaN</td>\n",
       "      <td>IMC</td>\n",
       "      <td>APPROACH</td>\n",
       "      <td>Preliminary</td>\n",
       "      <td>09/03/2020</td>\n",
       "    </tr>\n",
       "    <tr>\n",
       "      <th>4</th>\n",
       "      <td>20200828X62708</td>\n",
       "      <td>Accident</td>\n",
       "      <td>WPR20LA291</td>\n",
       "      <td>08/28/2020</td>\n",
       "      <td>Grand Canyon, AZ</td>\n",
       "      <td>United States</td>\n",
       "      <td>35.936111</td>\n",
       "      <td>-112.131389</td>\n",
       "      <td>KGCN</td>\n",
       "      <td>Grand Canyon National Park Apt</td>\n",
       "      <td>...</td>\n",
       "      <td>Skydiving</td>\n",
       "      <td>NaN</td>\n",
       "      <td>NaN</td>\n",
       "      <td>NaN</td>\n",
       "      <td>1.0</td>\n",
       "      <td>NaN</td>\n",
       "      <td>VMC</td>\n",
       "      <td>APPROACH</td>\n",
       "      <td>Preliminary</td>\n",
       "      <td>09/03/2020</td>\n",
       "    </tr>\n",
       "  </tbody>\n",
       "</table>\n",
       "<p>5 rows × 31 columns</p>\n",
       "</div>"
      ],
      "text/plain": [
       "          EventId InvestigationType AccidentNumber   EventDate  \\\n",
       "0  20200904X81526          Accident     CEN20CA386  09/03/2020   \n",
       "1  20200831X75141          Accident     ERA20CA300  08/30/2020   \n",
       "2  20200830X64312          Accident     CEN20LA370  08/30/2020   \n",
       "3  20200829X95443          Accident     CEN20LA367  08/29/2020   \n",
       "4  20200828X62708          Accident     WPR20LA291  08/28/2020   \n",
       "\n",
       "            Location        Country   Latitude   Longitude AirportCode  \\\n",
       "0        Reserve, LA  United States        NaN         NaN        KAPS   \n",
       "1     Millington, MD  United States        NaN         NaN         NaN   \n",
       "2          Bryan, TX  United States  30.715556  -96.331389         CFD   \n",
       "3  Lawrenceville, IL  United States  38.789722  -87.605000         LWV   \n",
       "4   Grand Canyon, AZ  United States  35.936111 -112.131389        KGCN   \n",
       "\n",
       "                      AirportName  ... PurposeOfFlight AirCarrier  \\\n",
       "0                             NaN  ...        Personal        NaN   \n",
       "1                             NaN  ...             NaN        NaN   \n",
       "2                   Coulter Field  ...        Personal        NaN   \n",
       "3    Lawrenceville-Vincennes Intl  ...        Personal        NaN   \n",
       "4  Grand Canyon National Park Apt  ...       Skydiving        NaN   \n",
       "\n",
       "  TotalFatalInjuries TotalSeriousInjuries TotalMinorInjuries TotalUninjured  \\\n",
       "0                NaN                  NaN                NaN            NaN   \n",
       "1                NaN                  NaN                NaN            NaN   \n",
       "2                3.0                  1.0                NaN            NaN   \n",
       "3                1.0                  NaN                NaN            NaN   \n",
       "4                NaN                  NaN                1.0            NaN   \n",
       "\n",
       "  WeatherCondition  BroadPhaseOfFlight ReportStatus PublicationDate  \n",
       "0              NaN                 NaN  Preliminary      09/08/2020  \n",
       "1              NaN                 NaN  Preliminary      09/01/2020  \n",
       "2              VMC             TAKEOFF  Preliminary      09/03/2020  \n",
       "3              IMC            APPROACH  Preliminary      09/03/2020  \n",
       "4              VMC            APPROACH  Preliminary      09/03/2020  \n",
       "\n",
       "[5 rows x 31 columns]"
      ]
     },
     "execution_count": 17,
     "metadata": {},
     "output_type": "execute_result"
    }
   ],
   "source": [
    "air.head()"
   ]
  },
  {
   "cell_type": "code",
   "execution_count": 19,
   "metadata": {},
   "outputs": [
    {
     "data": {
      "text/plain": [
       "EventId                     0\n",
       "InvestigationType          15\n",
       "AccidentNumber              0\n",
       "EventDate                   0\n",
       "Location                   77\n",
       "Country                   507\n",
       "Latitude                54392\n",
       "Longitude               54401\n",
       "AirportCode             37185\n",
       "AirportName             34469\n",
       "InjurySeverity              0\n",
       "AircraftDamage           2919\n",
       "AircraftCategory        56745\n",
       "RegistrationNumber       4214\n",
       "Make                       70\n",
       "Model                      99\n",
       "AmateurBuilt              684\n",
       "NumberOfEngines          5448\n",
       "EngineType               4605\n",
       "FARDescription          57047\n",
       "Schedule                73417\n",
       "PurposeOfFlight          5386\n",
       "AirCarrier              81268\n",
       "TotalFatalInjuries      28260\n",
       "TotalSeriousInjuries    30992\n",
       "TotalMinorInjuries      29757\n",
       "TotalUninjured          15131\n",
       "WeatherCondition         3484\n",
       "BroadPhaseOfFlight       6628\n",
       "ReportStatus                0\n",
       "PublicationDate         14731\n",
       "dtype: int64"
      ]
     },
     "execution_count": 19,
     "metadata": {},
     "output_type": "execute_result"
    }
   ],
   "source": [
    "air.isnull().sum()"
   ]
  },
  {
   "cell_type": "code",
   "execution_count": 24,
   "metadata": {},
   "outputs": [
    {
     "data": {
      "text/plain": [
       "(85533, 31)"
      ]
     },
     "execution_count": 24,
     "metadata": {},
     "output_type": "execute_result"
    }
   ],
   "source": [
    "air.isnull().shape"
   ]
  },
  {
   "cell_type": "code",
   "execution_count": 25,
   "metadata": {},
   "outputs": [
    {
     "data": {
      "text/plain": [
       "EventId                  0.000000\n",
       "InvestigationType        0.017537\n",
       "AccidentNumber           0.000000\n",
       "EventDate                0.000000\n",
       "Location                 0.090024\n",
       "Country                  0.592754\n",
       "Latitude                63.591830\n",
       "Longitude               63.602352\n",
       "AirportCode             43.474448\n",
       "AirportName             40.299066\n",
       "InjurySeverity           0.000000\n",
       "AircraftDamage           3.412718\n",
       "AircraftCategory        66.342815\n",
       "RegistrationNumber       4.926753\n",
       "Make                     0.081840\n",
       "Model                    0.115745\n",
       "AmateurBuilt             0.799691\n",
       "NumberOfEngines          6.369471\n",
       "EngineType               5.383887\n",
       "FARDescription          66.695895\n",
       "Schedule                85.834707\n",
       "PurposeOfFlight          6.296985\n",
       "AirCarrier              95.013620\n",
       "TotalFatalInjuries      33.039879\n",
       "TotalSeriousInjuries    36.233968\n",
       "TotalMinorInjuries      34.790081\n",
       "TotalUninjured          17.690248\n",
       "WeatherCondition         4.073282\n",
       "BroadPhaseOfFlight       7.749056\n",
       "ReportStatus             0.000000\n",
       "PublicationDate         17.222592\n",
       "dtype: float64"
      ]
     },
     "execution_count": 25,
     "metadata": {},
     "output_type": "execute_result"
    }
   ],
   "source": [
    "air.isnull().sum() / air.isnull().shape[0] * 100"
   ]
  },
  {
   "cell_type": "markdown",
   "metadata": {},
   "source": [
    "# Dropping Columns"
   ]
  },
  {
   "cell_type": "code",
   "execution_count": 29,
   "metadata": {},
   "outputs": [
    {
     "data": {
      "text/plain": [
       "(85533, 31)"
      ]
     },
     "execution_count": 29,
     "metadata": {},
     "output_type": "execute_result"
    }
   ],
   "source": [
    "air.shape"
   ]
  },
  {
   "cell_type": "code",
   "execution_count": 33,
   "metadata": {},
   "outputs": [],
   "source": [
    "dropped_columns = ['Latitude', 'Longitude', 'AircraftCategory', 'AirCarrier', 'PublicationDate',\n",
    "                  'ReportStatus', 'Schedule', 'FARDescription']\n",
    "\n",
    "air.drop(dropped_columns, axis = 1, inplace = True)"
   ]
  },
  {
   "cell_type": "code",
   "execution_count": 51,
   "metadata": {},
   "outputs": [],
   "source": [
    "dropped_columns_2 = ['RegistrationNumber', 'AmateurBuilt']\n",
    "\n",
    "air.drop(dropped_columns_2, axis = 1, inplace = True)"
   ]
  },
  {
   "cell_type": "code",
   "execution_count": 55,
   "metadata": {},
   "outputs": [],
   "source": [
    "dropped_columns_3 = ['InvestigationType', 'EventId']\n",
    "\n",
    "air.drop(dropped_columns_3, axis = 1, inplace = True)"
   ]
  },
  {
   "cell_type": "code",
   "execution_count": 64,
   "metadata": {},
   "outputs": [],
   "source": [
    "dropped_columns_4 = ['PurposeOfFlight']\n",
    "\n",
    "air.drop(dropped_columns_4, axis = 1, inplace = True)"
   ]
  },
  {
   "cell_type": "code",
   "execution_count": 65,
   "metadata": {},
   "outputs": [
    {
     "data": {
      "text/plain": [
       "AccidentNumber           0.000000\n",
       "EventDate                0.000000\n",
       "Location                 0.090024\n",
       "Country                  0.592754\n",
       "AirportCode             43.474448\n",
       "AirportName             40.299066\n",
       "InjurySeverity           0.000000\n",
       "AircraftDamage           3.412718\n",
       "Make                     0.081840\n",
       "Model                    0.115745\n",
       "NumberOfEngines          6.369471\n",
       "EngineType               5.383887\n",
       "TotalFatalInjuries      33.039879\n",
       "TotalSeriousInjuries    36.233968\n",
       "TotalMinorInjuries      34.790081\n",
       "TotalUninjured          17.690248\n",
       "WeatherCondition         4.073282\n",
       "BroadPhaseOfFlight       7.749056\n",
       "dtype: float64"
      ]
     },
     "execution_count": 65,
     "metadata": {},
     "output_type": "execute_result"
    }
   ],
   "source": [
    "air.isnull().sum() / air.isnull().shape[0] * 100"
   ]
  },
  {
   "cell_type": "code",
   "execution_count": 66,
   "metadata": {},
   "outputs": [
    {
     "data": {
      "text/plain": [
       "(85533, 18)"
      ]
     },
     "execution_count": 66,
     "metadata": {},
     "output_type": "execute_result"
    }
   ],
   "source": [
    "air.shape"
   ]
  },
  {
   "cell_type": "code",
   "execution_count": null,
   "metadata": {},
   "outputs": [],
   "source": []
  },
  {
   "cell_type": "markdown",
   "metadata": {},
   "source": [
    "# Dropping Rows"
   ]
  },
  {
   "cell_type": "code",
   "execution_count": null,
   "metadata": {},
   "outputs": [],
   "source": [
    "air.dropna(subset = ['?????'], inplace = True) # I will not use if for Air Disasters report."
   ]
  },
  {
   "cell_type": "code",
   "execution_count": null,
   "metadata": {},
   "outputs": [],
   "source": []
  },
  {
   "cell_type": "markdown",
   "metadata": {},
   "source": [
    "# Fixing a data type"
   ]
  },
  {
   "cell_type": "code",
   "execution_count": 67,
   "metadata": {},
   "outputs": [
    {
     "data": {
      "text/plain": [
       "AccidentNumber           object\n",
       "EventDate                object\n",
       "Location                 object\n",
       "Country                  object\n",
       "AirportCode              object\n",
       "AirportName              object\n",
       "InjurySeverity           object\n",
       "AircraftDamage           object\n",
       "Make                     object\n",
       "Model                    object\n",
       "NumberOfEngines         float64\n",
       "EngineType               object\n",
       "TotalFatalInjuries      float64\n",
       "TotalSeriousInjuries    float64\n",
       "TotalMinorInjuries      float64\n",
       "TotalUninjured          float64\n",
       "WeatherCondition         object\n",
       "BroadPhaseOfFlight       object\n",
       "dtype: object"
      ]
     },
     "execution_count": 67,
     "metadata": {},
     "output_type": "execute_result"
    }
   ],
   "source": [
    "air.dtypes"
   ]
  },
  {
   "cell_type": "code",
   "execution_count": 61,
   "metadata": {},
   "outputs": [
    {
     "data": {
      "text/plain": [
       "1.0    67228\n",
       "2.0    10771\n",
       "0.0     1177\n",
       "3.0      481\n",
       "4.0      427\n",
       "8.0        1\n",
       "Name: NumberOfEngines, dtype: int64"
      ]
     },
     "execution_count": 61,
     "metadata": {},
     "output_type": "execute_result"
    }
   ],
   "source": [
    "air.NumberOfEngines.value_counts()"
   ]
  },
  {
   "cell_type": "code",
   "execution_count": 68,
   "metadata": {},
   "outputs": [
    {
     "data": {
      "text/plain": [
       "CESSNA                   17832\n",
       "PIPER                     9843\n",
       "Cessna                    8487\n",
       "Piper                     4539\n",
       "BEECH                     3286\n",
       "                         ...  \n",
       "Miltenberger                 1\n",
       "North American-Barene        1\n",
       "Pollard & Huntley            1\n",
       "RAND KR1                     1\n",
       "Alan Wilson                  1\n",
       "Name: Make, Length: 8084, dtype: int64"
      ]
     },
     "execution_count": 68,
     "metadata": {},
     "output_type": "execute_result"
    }
   ],
   "source": [
    "air.Make.value_counts()"
   ]
  },
  {
   "cell_type": "code",
   "execution_count": 69,
   "metadata": {},
   "outputs": [
    {
     "data": {
      "text/html": [
       "<div>\n",
       "<style scoped>\n",
       "    .dataframe tbody tr th:only-of-type {\n",
       "        vertical-align: middle;\n",
       "    }\n",
       "\n",
       "    .dataframe tbody tr th {\n",
       "        vertical-align: top;\n",
       "    }\n",
       "\n",
       "    .dataframe thead th {\n",
       "        text-align: right;\n",
       "    }\n",
       "</style>\n",
       "<table border=\"1\" class=\"dataframe\">\n",
       "  <thead>\n",
       "    <tr style=\"text-align: right;\">\n",
       "      <th></th>\n",
       "      <th>AccidentNumber</th>\n",
       "      <th>EventDate</th>\n",
       "      <th>Location</th>\n",
       "      <th>Country</th>\n",
       "      <th>AirportCode</th>\n",
       "      <th>AirportName</th>\n",
       "      <th>InjurySeverity</th>\n",
       "      <th>AircraftDamage</th>\n",
       "      <th>Make</th>\n",
       "      <th>Model</th>\n",
       "      <th>NumberOfEngines</th>\n",
       "      <th>EngineType</th>\n",
       "      <th>TotalFatalInjuries</th>\n",
       "      <th>TotalSeriousInjuries</th>\n",
       "      <th>TotalMinorInjuries</th>\n",
       "      <th>TotalUninjured</th>\n",
       "      <th>WeatherCondition</th>\n",
       "      <th>BroadPhaseOfFlight</th>\n",
       "    </tr>\n",
       "  </thead>\n",
       "  <tbody>\n",
       "    <tr>\n",
       "      <th>0</th>\n",
       "      <td>CEN20CA386</td>\n",
       "      <td>09/03/2020</td>\n",
       "      <td>Reserve, LA</td>\n",
       "      <td>United States</td>\n",
       "      <td>KAPS</td>\n",
       "      <td>NaN</td>\n",
       "      <td>Unavailable</td>\n",
       "      <td>Substantial</td>\n",
       "      <td>PIPER</td>\n",
       "      <td>PA38</td>\n",
       "      <td>NaN</td>\n",
       "      <td>NaN</td>\n",
       "      <td>NaN</td>\n",
       "      <td>NaN</td>\n",
       "      <td>NaN</td>\n",
       "      <td>NaN</td>\n",
       "      <td>NaN</td>\n",
       "      <td>NaN</td>\n",
       "    </tr>\n",
       "    <tr>\n",
       "      <th>1</th>\n",
       "      <td>ERA20CA300</td>\n",
       "      <td>08/30/2020</td>\n",
       "      <td>Millington, MD</td>\n",
       "      <td>United States</td>\n",
       "      <td>NaN</td>\n",
       "      <td>NaN</td>\n",
       "      <td>Unavailable</td>\n",
       "      <td>Substantial</td>\n",
       "      <td>Cessna</td>\n",
       "      <td>182</td>\n",
       "      <td>1.0</td>\n",
       "      <td>NaN</td>\n",
       "      <td>NaN</td>\n",
       "      <td>NaN</td>\n",
       "      <td>NaN</td>\n",
       "      <td>NaN</td>\n",
       "      <td>NaN</td>\n",
       "      <td>NaN</td>\n",
       "    </tr>\n",
       "    <tr>\n",
       "      <th>2</th>\n",
       "      <td>CEN20LA370</td>\n",
       "      <td>08/30/2020</td>\n",
       "      <td>Bryan, TX</td>\n",
       "      <td>United States</td>\n",
       "      <td>CFD</td>\n",
       "      <td>Coulter Field</td>\n",
       "      <td>Fatal(3)</td>\n",
       "      <td>Substantial</td>\n",
       "      <td>Piper</td>\n",
       "      <td>PA24</td>\n",
       "      <td>1.0</td>\n",
       "      <td>Reciprocating</td>\n",
       "      <td>3.0</td>\n",
       "      <td>1.0</td>\n",
       "      <td>NaN</td>\n",
       "      <td>NaN</td>\n",
       "      <td>VMC</td>\n",
       "      <td>TAKEOFF</td>\n",
       "    </tr>\n",
       "    <tr>\n",
       "      <th>3</th>\n",
       "      <td>CEN20LA367</td>\n",
       "      <td>08/29/2020</td>\n",
       "      <td>Lawrenceville, IL</td>\n",
       "      <td>United States</td>\n",
       "      <td>LWV</td>\n",
       "      <td>Lawrenceville-Vincennes Intl</td>\n",
       "      <td>Fatal(1)</td>\n",
       "      <td>Destroyed</td>\n",
       "      <td>Cirrus</td>\n",
       "      <td>SR22</td>\n",
       "      <td>1.0</td>\n",
       "      <td>Reciprocating</td>\n",
       "      <td>1.0</td>\n",
       "      <td>NaN</td>\n",
       "      <td>NaN</td>\n",
       "      <td>NaN</td>\n",
       "      <td>IMC</td>\n",
       "      <td>APPROACH</td>\n",
       "    </tr>\n",
       "    <tr>\n",
       "      <th>4</th>\n",
       "      <td>WPR20LA291</td>\n",
       "      <td>08/28/2020</td>\n",
       "      <td>Grand Canyon, AZ</td>\n",
       "      <td>United States</td>\n",
       "      <td>KGCN</td>\n",
       "      <td>Grand Canyon National Park Apt</td>\n",
       "      <td>Non-Fatal</td>\n",
       "      <td>Substantial</td>\n",
       "      <td>Cessna</td>\n",
       "      <td>TU206</td>\n",
       "      <td>1.0</td>\n",
       "      <td>Reciprocating</td>\n",
       "      <td>NaN</td>\n",
       "      <td>NaN</td>\n",
       "      <td>1.0</td>\n",
       "      <td>NaN</td>\n",
       "      <td>VMC</td>\n",
       "      <td>APPROACH</td>\n",
       "    </tr>\n",
       "  </tbody>\n",
       "</table>\n",
       "</div>"
      ],
      "text/plain": [
       "  AccidentNumber   EventDate           Location        Country AirportCode  \\\n",
       "0     CEN20CA386  09/03/2020        Reserve, LA  United States        KAPS   \n",
       "1     ERA20CA300  08/30/2020     Millington, MD  United States         NaN   \n",
       "2     CEN20LA370  08/30/2020          Bryan, TX  United States         CFD   \n",
       "3     CEN20LA367  08/29/2020  Lawrenceville, IL  United States         LWV   \n",
       "4     WPR20LA291  08/28/2020   Grand Canyon, AZ  United States        KGCN   \n",
       "\n",
       "                      AirportName InjurySeverity AircraftDamage    Make  \\\n",
       "0                             NaN    Unavailable    Substantial   PIPER   \n",
       "1                             NaN    Unavailable    Substantial  Cessna   \n",
       "2                   Coulter Field       Fatal(3)    Substantial   Piper   \n",
       "3    Lawrenceville-Vincennes Intl       Fatal(1)      Destroyed  Cirrus   \n",
       "4  Grand Canyon National Park Apt      Non-Fatal    Substantial  Cessna   \n",
       "\n",
       "   Model  NumberOfEngines     EngineType  TotalFatalInjuries  \\\n",
       "0   PA38              NaN            NaN                 NaN   \n",
       "1    182              1.0            NaN                 NaN   \n",
       "2   PA24              1.0  Reciprocating                 3.0   \n",
       "3   SR22              1.0  Reciprocating                 1.0   \n",
       "4  TU206              1.0  Reciprocating                 NaN   \n",
       "\n",
       "   TotalSeriousInjuries  TotalMinorInjuries  TotalUninjured WeatherCondition  \\\n",
       "0                   NaN                 NaN             NaN              NaN   \n",
       "1                   NaN                 NaN             NaN              NaN   \n",
       "2                   1.0                 NaN             NaN              VMC   \n",
       "3                   NaN                 NaN             NaN              IMC   \n",
       "4                   NaN                 1.0             NaN              VMC   \n",
       "\n",
       "  BroadPhaseOfFlight  \n",
       "0                NaN  \n",
       "1                NaN  \n",
       "2            TAKEOFF  \n",
       "3           APPROACH  \n",
       "4           APPROACH  "
      ]
     },
     "execution_count": 69,
     "metadata": {},
     "output_type": "execute_result"
    }
   ],
   "source": [
    "air.head()"
   ]
  },
  {
   "cell_type": "markdown",
   "metadata": {},
   "source": [
    "# Examining Parameters"
   ]
  },
  {
   "cell_type": "code",
   "execution_count": 70,
   "metadata": {},
   "outputs": [
    {
     "data": {
      "text/plain": [
       "VMC    75074\n",
       "IMC     5888\n",
       "UNK     1087\n",
       "Name: WeatherCondition, dtype: int64"
      ]
     },
     "execution_count": 70,
     "metadata": {},
     "output_type": "execute_result"
    }
   ],
   "source": [
    "air.WeatherCondition.value_counts()"
   ]
  },
  {
   "cell_type": "code",
   "execution_count": 72,
   "metadata": {},
   "outputs": [
    {
     "data": {
      "text/plain": [
       "VMC    0.914990\n",
       "IMC    0.071762\n",
       "UNK    0.013248\n",
       "Name: WeatherCondition, dtype: float64"
      ]
     },
     "execution_count": 72,
     "metadata": {},
     "output_type": "execute_result"
    }
   ],
   "source": [
    "air.WeatherCondition.value_counts(normalize = True)"
   ]
  },
  {
   "cell_type": "code",
   "execution_count": 76,
   "metadata": {},
   "outputs": [
    {
     "data": {
      "text/plain": [
       "152               2342\n",
       "172               1645\n",
       "172N              1142\n",
       "PA-28-140          902\n",
       "150                802\n",
       "                  ... \n",
       "Glasair SHA          1\n",
       "300/269C             1\n",
       "MINI ACE CA-61       1\n",
       "G167B                1\n",
       "HUMINGBIRD           1\n",
       "Name: Model, Length: 12045, dtype: int64"
      ]
     },
     "execution_count": 76,
     "metadata": {},
     "output_type": "execute_result"
    }
   ],
   "source": [
    "air.Model.value_counts()"
   ]
  },
  {
   "cell_type": "code",
   "execution_count": 77,
   "metadata": {},
   "outputs": [],
   "source": [
    "Boeing_planes = air[air['Make'] == 'Boeing']"
   ]
  },
  {
   "cell_type": "code",
   "execution_count": 85,
   "metadata": {},
   "outputs": [
    {
     "data": {
      "text/plain": [
       "(845, 18)"
      ]
     },
     "execution_count": 85,
     "metadata": {},
     "output_type": "execute_result"
    }
   ],
   "source": [
    "Boeing_planes.shape"
   ]
  },
  {
   "cell_type": "code",
   "execution_count": 80,
   "metadata": {},
   "outputs": [],
   "source": [
    "Airbus_planes = air[air['Make'] == 'Airbus']"
   ]
  },
  {
   "cell_type": "code",
   "execution_count": 84,
   "metadata": {},
   "outputs": [
    {
     "data": {
      "text/plain": [
       "(34, 18)"
      ]
     },
     "execution_count": 84,
     "metadata": {},
     "output_type": "execute_result"
    }
   ],
   "source": [
    "Airbus_planes.shape"
   ]
  },
  {
   "cell_type": "code",
   "execution_count": 108,
   "metadata": {},
   "outputs": [
    {
     "data": {
      "text/plain": [
       "A320         9\n",
       "A319         5\n",
       "A321         4\n",
       "A330         3\n",
       "A321-231     1\n",
       "A320-211     1\n",
       "A320-232     1\n",
       "A-320        1\n",
       "A319-131     1\n",
       "A-320-232    1\n",
       "A310         1\n",
       "A340         1\n",
       "A-320-200    1\n",
       "A340-300     1\n",
       "A310-304     1\n",
       "A-300-B4     1\n",
       "A320-214     1\n",
       "Name: Model, dtype: int64"
      ]
     },
     "execution_count": 108,
     "metadata": {},
     "output_type": "execute_result"
    }
   ],
   "source": [
    "Airbus_planes.Model.value_counts()"
   ]
  },
  {
   "cell_type": "code",
   "execution_count": 107,
   "metadata": {},
   "outputs": [
    {
     "name": "stderr",
     "output_type": "stream",
     "text": [
      "C:\\Users\\Alp\\anaconda3\\lib\\site-packages\\pandas\\core\\ops\\array_ops.py:253: FutureWarning: elementwise comparison failed; returning scalar instead, but in the future will perform elementwise comparison\n",
      "  res_values = method(rvalues)\n"
     ]
    }
   ],
   "source": [
    "B_737_1 = air[(air['Model'] == '737') & air['Make'] == 'Boeing']"
   ]
  },
  {
   "cell_type": "code",
   "execution_count": null,
   "metadata": {},
   "outputs": [],
   "source": []
  },
  {
   "cell_type": "code",
   "execution_count": 105,
   "metadata": {},
   "outputs": [],
   "source": [
    "B_737 = Boeing_planes.Model == '737'"
   ]
  },
  {
   "cell_type": "code",
   "execution_count": 106,
   "metadata": {},
   "outputs": [
    {
     "data": {
      "text/plain": [
       "False    798\n",
       "True      47\n",
       "Name: Model, dtype: int64"
      ]
     },
     "execution_count": 106,
     "metadata": {},
     "output_type": "execute_result"
    }
   ],
   "source": [
    "B_737.value_counts()"
   ]
  },
  {
   "cell_type": "code",
   "execution_count": 96,
   "metadata": {},
   "outputs": [
    {
     "data": {
      "text/plain": [
       "737             47\n",
       "737-200         32\n",
       "737-300         29\n",
       "757             26\n",
       "747-400         21\n",
       "                ..\n",
       "727-214          1\n",
       "B-737            1\n",
       "767-300ER(F)     1\n",
       "1942             1\n",
       "A75N (PT17)      1\n",
       "Name: Model, Length: 306, dtype: int64"
      ]
     },
     "execution_count": 96,
     "metadata": {},
     "output_type": "execute_result"
    }
   ],
   "source": [
    "Boeing_planes.Model.value_counts()"
   ]
  },
  {
   "cell_type": "code",
   "execution_count": null,
   "metadata": {},
   "outputs": [],
   "source": []
  },
  {
   "cell_type": "code",
   "execution_count": null,
   "metadata": {},
   "outputs": [],
   "source": [
    "737 icinde farkli yazilmis 737-200, B-737, 737-300, 737 hepsini analiz"
   ]
  },
  {
   "cell_type": "code",
   "execution_count": null,
   "metadata": {},
   "outputs": [],
   "source": [
    "Airbus icinde yukaridakine benzer islem"
   ]
  },
  {
   "cell_type": "code",
   "execution_count": null,
   "metadata": {},
   "outputs": [],
   "source": [
    "Comparing violations by gender asamasinda kaldik"
   ]
  }
 ],
 "metadata": {
  "kernelspec": {
   "display_name": "Python 3",
   "language": "python",
   "name": "python3"
  },
  "language_info": {
   "codemirror_mode": {
    "name": "ipython",
    "version": 3
   },
   "file_extension": ".py",
   "mimetype": "text/x-python",
   "name": "python",
   "nbconvert_exporter": "python",
   "pygments_lexer": "ipython3",
   "version": "3.7.6"
  }
 },
 "nbformat": 4,
 "nbformat_minor": 4
}
